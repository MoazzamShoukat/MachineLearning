{
 "cells": [
  {
   "cell_type": "code",
   "execution_count": 1,
   "id": "0887f9af",
   "metadata": {},
   "outputs": [],
   "source": [
    "%matplotlib inline\n",
    "import numpy as np\n",
    "import pandas as pd\n",
    "import matplotlib.pyplot as plt"
   ]
  },
  {
   "cell_type": "code",
   "execution_count": 2,
   "id": "57315e93",
   "metadata": {},
   "outputs": [
    {
     "data": {
      "text/html": [
       "<div>\n",
       "<style scoped>\n",
       "    .dataframe tbody tr th:only-of-type {\n",
       "        vertical-align: middle;\n",
       "    }\n",
       "\n",
       "    .dataframe tbody tr th {\n",
       "        vertical-align: top;\n",
       "    }\n",
       "\n",
       "    .dataframe thead th {\n",
       "        text-align: right;\n",
       "    }\n",
       "</style>\n",
       "<table border=\"1\" class=\"dataframe\">\n",
       "  <thead>\n",
       "    <tr style=\"text-align: right;\">\n",
       "      <th></th>\n",
       "      <th>Gender</th>\n",
       "      <th>Age Range</th>\n",
       "      <th>Head Size(cm^3)</th>\n",
       "      <th>Brain Weight(grams)</th>\n",
       "    </tr>\n",
       "  </thead>\n",
       "  <tbody>\n",
       "    <tr>\n",
       "      <th>0</th>\n",
       "      <td>1</td>\n",
       "      <td>1</td>\n",
       "      <td>4512</td>\n",
       "      <td>1530</td>\n",
       "    </tr>\n",
       "    <tr>\n",
       "      <th>1</th>\n",
       "      <td>1</td>\n",
       "      <td>1</td>\n",
       "      <td>3738</td>\n",
       "      <td>1297</td>\n",
       "    </tr>\n",
       "    <tr>\n",
       "      <th>2</th>\n",
       "      <td>1</td>\n",
       "      <td>1</td>\n",
       "      <td>4261</td>\n",
       "      <td>1335</td>\n",
       "    </tr>\n",
       "    <tr>\n",
       "      <th>3</th>\n",
       "      <td>1</td>\n",
       "      <td>1</td>\n",
       "      <td>3777</td>\n",
       "      <td>1282</td>\n",
       "    </tr>\n",
       "    <tr>\n",
       "      <th>4</th>\n",
       "      <td>1</td>\n",
       "      <td>1</td>\n",
       "      <td>4177</td>\n",
       "      <td>1590</td>\n",
       "    </tr>\n",
       "  </tbody>\n",
       "</table>\n",
       "</div>"
      ],
      "text/plain": [
       "   Gender  Age Range  Head Size(cm^3)  Brain Weight(grams)\n",
       "0       1          1             4512                 1530\n",
       "1       1          1             3738                 1297\n",
       "2       1          1             4261                 1335\n",
       "3       1          1             3777                 1282\n",
       "4       1          1             4177                 1590"
      ]
     },
     "execution_count": 2,
     "metadata": {},
     "output_type": "execute_result"
    }
   ],
   "source": [
    "# Loadin data\n",
    "data = pd.read_csv('headbrain.csv')\n",
    "data.head()"
   ]
  },
  {
   "cell_type": "code",
   "execution_count": 3,
   "id": "98cedafd",
   "metadata": {},
   "outputs": [],
   "source": [
    "# For getting the values of \"x\" & \"y\"\n",
    "x = data['Head Size(cm^3)'].values\n",
    "y = data['Brain Weight(grams)'].values"
   ]
  },
  {
   "cell_type": "code",
   "execution_count": 4,
   "id": "53683c96",
   "metadata": {},
   "outputs": [],
   "source": [
    "# Calculation for mean values\n",
    "x_mean = np.mean(x)\n",
    "y_mean = np.mean(y)\n",
    "n = len(x)"
   ]
  },
  {
   "cell_type": "code",
   "execution_count": 5,
   "id": "cf7a7b72",
   "metadata": {},
   "outputs": [],
   "source": [
    "upper = 0\n",
    "lower = 0\n",
    "for i in range(n):\n",
    "    upper += (x[i] - x_mean)*(y[i] - y_mean)\n",
    "    lower += (x[i] - x_mean)**2\n",
    "    \n",
    "b1 = upper/lower\n",
    "b0 = y_mean - (x_mean * b1)\n",
    "\n",
    "# For the Calculation of R-Squared Value\n",
    "rs_u = 0\n",
    "rs_l = 0\n",
    "for i in range(n):\n",
    "    yp = b0 + b1*x[i]\n",
    "    rs_u += (yp - y_mean)**2\n",
    "    rs_l += (y[i] - y_mean)**2\n",
    "rSquare = rs_u/rs_l"
   ]
  },
  {
   "cell_type": "code",
   "execution_count": 6,
   "id": "19255959",
   "metadata": {},
   "outputs": [
    {
     "data": {
      "image/png": "[encoded data removed]",
      "text/plain": [
       "<Figure size 432x288 with 1 Axes>"
      ]
     },
     "metadata": {
      "needs_background": "light"
     },
     "output_type": "display_data"
    }
   ],
   "source": [
    "y_line = b0 + b1*x\n",
    "plt.plot(x, y_line, color='#ff0000', label = 'Regression Line')\n",
    "plt.scatter(x, y, color='#0000ff', label = 'Points')\n",
    "plt.xlabel('Head Size')\n",
    "plt.ylabel('Brain Weigth')\n",
    "plt.show()"
   ]
  },
  {
   "cell_type": "code",
   "execution_count": 7,
   "id": "38fa87a4",
   "metadata": {},
   "outputs": [
    {
     "name": "stdout",
     "output_type": "stream",
     "text": [
      "The value of b0/C is : 325.57342104944223\n",
      "The value of b1 is : 0.26342933948939945\n",
      "The value of rSquare is : 0.6393117199570001\n"
     ]
    }
   ],
   "source": [
    "# printing All Value\n",
    "print (\"The value of b0/C is : \" + str(b0) )\n",
    "print (\"The value of b1 is : \" + str(b1) )\n",
    "print (\"The value of rSquare is : \" + str(rSquare) )"
   ]
  }
 ],
 "metadata": {
  "kernelspec": {
   "display_name": "Python 3 (ipykernel)",
   "language": "python",
   "name": "python3"
  },
  "language_info": {
   "codemirror_mode": {
    "name": "ipython",
    "version": 3
   },
   "file_extension": ".py",
   "mimetype": "text/x-python",
   "name": "python",
   "nbconvert_exporter": "python",
   "pygments_lexer": "ipython3",
   "version": "3.7.11"
  }
 },
 "nbformat": 4,
 "nbformat_minor": 5
}
